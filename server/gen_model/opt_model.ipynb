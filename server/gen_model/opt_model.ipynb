{
 "cells": [
  {
   "cell_type": "code",
   "execution_count": 18,
   "metadata": {},
   "outputs": [],
   "source": [
    "from sklearn.model_selection import train_test_split\n",
    "from sklearn.ensemble import RandomForestClassifier\n",
    "from sklearn.metrics import accuracy_score\n",
    "import numpy as np\n",
    "import pandas as pd"
   ]
  },
  {
   "cell_type": "code",
   "execution_count": 19,
   "metadata": {},
   "outputs": [],
   "source": [
    "data = pd.read_csv('data_1.csv')\n",
    "grade=pd.read_csv('grade.csv')\n",
    "loan=pd.read_csv('loan_det.csv')"
   ]
  },
  {
   "cell_type": "code",
   "execution_count": 20,
   "metadata": {},
   "outputs": [],
   "source": [
    "# data.head()\n",
    "cols=['emp_length','annual_inc','loan_status','dti','inq_last_6mths','open_acc','pub_rec','revol_util','total_acc','total_pymnt','grade','loan_amnt','term','installment']"
   ]
  },
  {
   "cell_type": "code",
   "execution_count": 21,
   "metadata": {},
   "outputs": [],
   "source": [
    "# loan.head()"
   ]
  },
  {
   "cell_type": "code",
   "execution_count": 22,
   "metadata": {},
   "outputs": [],
   "source": [
    "data = pd.concat([data, grade], axis=1)\n",
    "data = pd.concat([data,loan],axis=1)\n",
    "data = data.loc[:, ~data.columns.duplicated(keep='first')]\n",
    "data=data[cols]\n"
   ]
  },
  {
   "cell_type": "code",
   "execution_count": 23,
   "metadata": {},
   "outputs": [
    {
     "data": {
      "text/html": [
       "<div>\n",
       "<style scoped>\n",
       "    .dataframe tbody tr th:only-of-type {\n",
       "        vertical-align: middle;\n",
       "    }\n",
       "\n",
       "    .dataframe tbody tr th {\n",
       "        vertical-align: top;\n",
       "    }\n",
       "\n",
       "    .dataframe thead th {\n",
       "        text-align: right;\n",
       "    }\n",
       "</style>\n",
       "<table border=\"1\" class=\"dataframe\">\n",
       "  <thead>\n",
       "    <tr style=\"text-align: right;\">\n",
       "      <th></th>\n",
       "      <th>annual_inc</th>\n",
       "      <th>dti</th>\n",
       "      <th>inq_last_6mths</th>\n",
       "      <th>open_acc</th>\n",
       "      <th>pub_rec</th>\n",
       "      <th>revol_util</th>\n",
       "      <th>total_acc</th>\n",
       "      <th>total_pymnt</th>\n",
       "      <th>loan_amnt</th>\n",
       "      <th>installment</th>\n",
       "    </tr>\n",
       "  </thead>\n",
       "  <tbody>\n",
       "    <tr>\n",
       "      <th>count</th>\n",
       "      <td>8.873750e+05</td>\n",
       "      <td>887379.000000</td>\n",
       "      <td>887350.000000</td>\n",
       "      <td>887350.000000</td>\n",
       "      <td>887350.000000</td>\n",
       "      <td>886877.000000</td>\n",
       "      <td>887350.000000</td>\n",
       "      <td>887379.000000</td>\n",
       "      <td>887379.000000</td>\n",
       "      <td>887379.000000</td>\n",
       "    </tr>\n",
       "    <tr>\n",
       "      <th>mean</th>\n",
       "      <td>7.502759e+04</td>\n",
       "      <td>18.157039</td>\n",
       "      <td>0.694623</td>\n",
       "      <td>11.548469</td>\n",
       "      <td>0.195307</td>\n",
       "      <td>55.067693</td>\n",
       "      <td>25.268026</td>\n",
       "      <td>7558.826684</td>\n",
       "      <td>14755.264605</td>\n",
       "      <td>436.717127</td>\n",
       "    </tr>\n",
       "    <tr>\n",
       "      <th>std</th>\n",
       "      <td>6.469830e+04</td>\n",
       "      <td>17.190626</td>\n",
       "      <td>0.998448</td>\n",
       "      <td>5.317313</td>\n",
       "      <td>0.582091</td>\n",
       "      <td>23.834344</td>\n",
       "      <td>11.840561</td>\n",
       "      <td>7871.243336</td>\n",
       "      <td>8435.455601</td>\n",
       "      <td>244.186593</td>\n",
       "    </tr>\n",
       "    <tr>\n",
       "      <th>min</th>\n",
       "      <td>0.000000e+00</td>\n",
       "      <td>0.000000</td>\n",
       "      <td>0.000000</td>\n",
       "      <td>0.000000</td>\n",
       "      <td>0.000000</td>\n",
       "      <td>0.000000</td>\n",
       "      <td>1.000000</td>\n",
       "      <td>0.000000</td>\n",
       "      <td>500.000000</td>\n",
       "      <td>15.670000</td>\n",
       "    </tr>\n",
       "    <tr>\n",
       "      <th>25%</th>\n",
       "      <td>4.500000e+04</td>\n",
       "      <td>11.910000</td>\n",
       "      <td>0.000000</td>\n",
       "      <td>8.000000</td>\n",
       "      <td>0.000000</td>\n",
       "      <td>37.700000</td>\n",
       "      <td>17.000000</td>\n",
       "      <td>1914.590000</td>\n",
       "      <td>8000.000000</td>\n",
       "      <td>260.705000</td>\n",
       "    </tr>\n",
       "    <tr>\n",
       "      <th>50%</th>\n",
       "      <td>6.500000e+04</td>\n",
       "      <td>17.650000</td>\n",
       "      <td>0.000000</td>\n",
       "      <td>11.000000</td>\n",
       "      <td>0.000000</td>\n",
       "      <td>56.000000</td>\n",
       "      <td>24.000000</td>\n",
       "      <td>4894.999117</td>\n",
       "      <td>13000.000000</td>\n",
       "      <td>382.550000</td>\n",
       "    </tr>\n",
       "    <tr>\n",
       "      <th>75%</th>\n",
       "      <td>9.000000e+04</td>\n",
       "      <td>23.950000</td>\n",
       "      <td>1.000000</td>\n",
       "      <td>14.000000</td>\n",
       "      <td>0.000000</td>\n",
       "      <td>73.600000</td>\n",
       "      <td>32.000000</td>\n",
       "      <td>10616.814230</td>\n",
       "      <td>20000.000000</td>\n",
       "      <td>572.600000</td>\n",
       "    </tr>\n",
       "    <tr>\n",
       "      <th>max</th>\n",
       "      <td>9.500000e+06</td>\n",
       "      <td>9999.000000</td>\n",
       "      <td>33.000000</td>\n",
       "      <td>90.000000</td>\n",
       "      <td>86.000000</td>\n",
       "      <td>892.300000</td>\n",
       "      <td>169.000000</td>\n",
       "      <td>57777.579870</td>\n",
       "      <td>35000.000000</td>\n",
       "      <td>1445.460000</td>\n",
       "    </tr>\n",
       "  </tbody>\n",
       "</table>\n",
       "</div>"
      ],
      "text/plain": [
       "         annual_inc            dti  inq_last_6mths       open_acc   \n",
       "count  8.873750e+05  887379.000000   887350.000000  887350.000000  \\\n",
       "mean   7.502759e+04      18.157039        0.694623      11.548469   \n",
       "std    6.469830e+04      17.190626        0.998448       5.317313   \n",
       "min    0.000000e+00       0.000000        0.000000       0.000000   \n",
       "25%    4.500000e+04      11.910000        0.000000       8.000000   \n",
       "50%    6.500000e+04      17.650000        0.000000      11.000000   \n",
       "75%    9.000000e+04      23.950000        1.000000      14.000000   \n",
       "max    9.500000e+06    9999.000000       33.000000      90.000000   \n",
       "\n",
       "             pub_rec     revol_util      total_acc    total_pymnt   \n",
       "count  887350.000000  886877.000000  887350.000000  887379.000000  \\\n",
       "mean        0.195307      55.067693      25.268026    7558.826684   \n",
       "std         0.582091      23.834344      11.840561    7871.243336   \n",
       "min         0.000000       0.000000       1.000000       0.000000   \n",
       "25%         0.000000      37.700000      17.000000    1914.590000   \n",
       "50%         0.000000      56.000000      24.000000    4894.999117   \n",
       "75%         0.000000      73.600000      32.000000   10616.814230   \n",
       "max        86.000000     892.300000     169.000000   57777.579870   \n",
       "\n",
       "           loan_amnt    installment  \n",
       "count  887379.000000  887379.000000  \n",
       "mean    14755.264605     436.717127  \n",
       "std      8435.455601     244.186593  \n",
       "min       500.000000      15.670000  \n",
       "25%      8000.000000     260.705000  \n",
       "50%     13000.000000     382.550000  \n",
       "75%     20000.000000     572.600000  \n",
       "max     35000.000000    1445.460000  "
      ]
     },
     "execution_count": 23,
     "metadata": {},
     "output_type": "execute_result"
    }
   ],
   "source": [
    "data.describe()"
   ]
  },
  {
   "cell_type": "code",
   "execution_count": null,
   "metadata": {},
   "outputs": [],
   "source": []
  },
  {
   "cell_type": "code",
   "execution_count": 24,
   "metadata": {},
   "outputs": [
    {
     "data": {
      "text/html": [
       "<div>\n",
       "<style scoped>\n",
       "    .dataframe tbody tr th:only-of-type {\n",
       "        vertical-align: middle;\n",
       "    }\n",
       "\n",
       "    .dataframe tbody tr th {\n",
       "        vertical-align: top;\n",
       "    }\n",
       "\n",
       "    .dataframe thead th {\n",
       "        text-align: right;\n",
       "    }\n",
       "</style>\n",
       "<table border=\"1\" class=\"dataframe\">\n",
       "  <thead>\n",
       "    <tr style=\"text-align: right;\">\n",
       "      <th></th>\n",
       "      <th>emp_length</th>\n",
       "      <th>annual_inc</th>\n",
       "      <th>loan_status</th>\n",
       "      <th>dti</th>\n",
       "      <th>inq_last_6mths</th>\n",
       "      <th>open_acc</th>\n",
       "      <th>pub_rec</th>\n",
       "      <th>revol_util</th>\n",
       "      <th>total_acc</th>\n",
       "      <th>total_pymnt</th>\n",
       "      <th>grade</th>\n",
       "      <th>loan_amnt</th>\n",
       "      <th>term</th>\n",
       "      <th>installment</th>\n",
       "    </tr>\n",
       "  </thead>\n",
       "  <tbody>\n",
       "    <tr>\n",
       "      <th>0</th>\n",
       "      <td>10+ years</td>\n",
       "      <td>24000.0</td>\n",
       "      <td>Fully Paid</td>\n",
       "      <td>27.65</td>\n",
       "      <td>1.0</td>\n",
       "      <td>3.0</td>\n",
       "      <td>0.0</td>\n",
       "      <td>83.7</td>\n",
       "      <td>9.0</td>\n",
       "      <td>5861.071414</td>\n",
       "      <td>B</td>\n",
       "      <td>5000</td>\n",
       "      <td>36 months</td>\n",
       "      <td>162.87</td>\n",
       "    </tr>\n",
       "    <tr>\n",
       "      <th>1</th>\n",
       "      <td>&lt; 1 year</td>\n",
       "      <td>30000.0</td>\n",
       "      <td>Charged Off</td>\n",
       "      <td>1.00</td>\n",
       "      <td>5.0</td>\n",
       "      <td>3.0</td>\n",
       "      <td>0.0</td>\n",
       "      <td>9.4</td>\n",
       "      <td>4.0</td>\n",
       "      <td>1008.710000</td>\n",
       "      <td>C</td>\n",
       "      <td>2500</td>\n",
       "      <td>60 months</td>\n",
       "      <td>59.83</td>\n",
       "    </tr>\n",
       "    <tr>\n",
       "      <th>2</th>\n",
       "      <td>10+ years</td>\n",
       "      <td>12252.0</td>\n",
       "      <td>Fully Paid</td>\n",
       "      <td>8.72</td>\n",
       "      <td>2.0</td>\n",
       "      <td>2.0</td>\n",
       "      <td>0.0</td>\n",
       "      <td>98.5</td>\n",
       "      <td>10.0</td>\n",
       "      <td>3003.653644</td>\n",
       "      <td>C</td>\n",
       "      <td>2400</td>\n",
       "      <td>36 months</td>\n",
       "      <td>84.33</td>\n",
       "    </tr>\n",
       "    <tr>\n",
       "      <th>3</th>\n",
       "      <td>10+ years</td>\n",
       "      <td>49200.0</td>\n",
       "      <td>Fully Paid</td>\n",
       "      <td>20.00</td>\n",
       "      <td>1.0</td>\n",
       "      <td>10.0</td>\n",
       "      <td>0.0</td>\n",
       "      <td>21.0</td>\n",
       "      <td>37.0</td>\n",
       "      <td>12226.302210</td>\n",
       "      <td>C</td>\n",
       "      <td>10000</td>\n",
       "      <td>36 months</td>\n",
       "      <td>339.31</td>\n",
       "    </tr>\n",
       "    <tr>\n",
       "      <th>4</th>\n",
       "      <td>1 year</td>\n",
       "      <td>80000.0</td>\n",
       "      <td>Current</td>\n",
       "      <td>17.94</td>\n",
       "      <td>0.0</td>\n",
       "      <td>15.0</td>\n",
       "      <td>0.0</td>\n",
       "      <td>53.9</td>\n",
       "      <td>38.0</td>\n",
       "      <td>3242.170000</td>\n",
       "      <td>B</td>\n",
       "      <td>3000</td>\n",
       "      <td>60 months</td>\n",
       "      <td>67.79</td>\n",
       "    </tr>\n",
       "  </tbody>\n",
       "</table>\n",
       "</div>"
      ],
      "text/plain": [
       "  emp_length  annual_inc  loan_status    dti  inq_last_6mths  open_acc   \n",
       "0  10+ years     24000.0   Fully Paid  27.65             1.0       3.0  \\\n",
       "1   < 1 year     30000.0  Charged Off   1.00             5.0       3.0   \n",
       "2  10+ years     12252.0   Fully Paid   8.72             2.0       2.0   \n",
       "3  10+ years     49200.0   Fully Paid  20.00             1.0      10.0   \n",
       "4     1 year     80000.0      Current  17.94             0.0      15.0   \n",
       "\n",
       "   pub_rec  revol_util  total_acc   total_pymnt grade  loan_amnt        term   \n",
       "0      0.0        83.7        9.0   5861.071414     B       5000   36 months  \\\n",
       "1      0.0         9.4        4.0   1008.710000     C       2500   60 months   \n",
       "2      0.0        98.5       10.0   3003.653644     C       2400   36 months   \n",
       "3      0.0        21.0       37.0  12226.302210     C      10000   36 months   \n",
       "4      0.0        53.9       38.0   3242.170000     B       3000   60 months   \n",
       "\n",
       "   installment  \n",
       "0       162.87  \n",
       "1        59.83  \n",
       "2        84.33  \n",
       "3       339.31  \n",
       "4        67.79  "
      ]
     },
     "execution_count": 24,
     "metadata": {},
     "output_type": "execute_result"
    }
   ],
   "source": [
    "# merged_X=data.filter(regex=r'^(?!Unnamed).*$')\n",
    "# merged_X.head()\n",
    "data=data.dropna()\n",
    "data.head()"
   ]
  },
  {
   "cell_type": "code",
   "execution_count": 25,
   "metadata": {},
   "outputs": [
    {
     "data": {
      "image/png": "[encoded data removed]",
      "text/plain": [
       "<Figure size 640x480 with 1 Axes>"
      ]
     },
     "metadata": {},
     "output_type": "display_data"
    }
   ],
   "source": [
    "import matplotlib.pyplot as plt\n",
    "y=data['annual_inc']\n",
    "x=data['dti']\n",
    "plt.scatter(x, y, color='blue', marker='o', label='Data Points')\n",
    "\n",
    "# Add title and labels\n",
    "plt.title('Scatter Plot')\n",
    "plt.xlabel('X-axis')\n",
    "plt.ylabel('Y-axis')\n",
    "\n",
    "# Add legend\n",
    "plt.legend()\n",
    "\n",
    "# Show the plot\n",
    "plt.show()"
   ]
  },
  {
   "cell_type": "code",
   "execution_count": 26,
   "metadata": {},
   "outputs": [
    {
     "name": "stderr",
     "output_type": "stream",
     "text": [
      "C:\\Users\\HP\\AppData\\Roaming\\Python\\Python311\\site-packages\\IPython\\core\\pylabtools.py:152: UserWarning: Creating legend with loc=\"best\" can be slow with large amounts of data.\n",
      "  fig.canvas.print_figure(bytes_io, **kw)\n"
     ]
    },
    {
     "data": {
      "image/png": "[encoded data removed]",
      "text/plain": [
       "<Figure size 640x480 with 1 Axes>"
      ]
     },
     "metadata": {},
     "output_type": "display_data"
    }
   ],
   "source": [
    "import matplotlib.pyplot as plt\n",
    "x=data['grade']\n",
    "y=data['loan_amnt']\n",
    "plt.scatter(x, y, color='blue', marker='o', label='Data Points')\n",
    "\n",
    "# Add title and labels\n",
    "plt.title('Scatter Plot')\n",
    "plt.xlabel('X-axis')\n",
    "plt.ylabel('Y-axis')\n",
    "\n",
    "# Add legend\n",
    "plt.legend()\n",
    "\n",
    "# Show the plot\n",
    "plt.show()"
   ]
  },
  {
   "cell_type": "code",
   "execution_count": 27,
   "metadata": {},
   "outputs": [
    {
     "data": {
      "text/html": [
       "<div>\n",
       "<style scoped>\n",
       "    .dataframe tbody tr th:only-of-type {\n",
       "        vertical-align: middle;\n",
       "    }\n",
       "\n",
       "    .dataframe tbody tr th {\n",
       "        vertical-align: top;\n",
       "    }\n",
       "\n",
       "    .dataframe thead th {\n",
       "        text-align: right;\n",
       "    }\n",
       "</style>\n",
       "<table border=\"1\" class=\"dataframe\">\n",
       "  <thead>\n",
       "    <tr style=\"text-align: right;\">\n",
       "      <th></th>\n",
       "      <th>emp_length</th>\n",
       "      <th>annual_inc</th>\n",
       "      <th>dti</th>\n",
       "      <th>inq_last_6mths</th>\n",
       "      <th>open_acc</th>\n",
       "      <th>pub_rec</th>\n",
       "      <th>revol_util</th>\n",
       "      <th>total_acc</th>\n",
       "      <th>total_pymnt</th>\n",
       "      <th>grade</th>\n",
       "      <th>loan_amnt</th>\n",
       "      <th>term</th>\n",
       "      <th>installment</th>\n",
       "    </tr>\n",
       "  </thead>\n",
       "  <tbody>\n",
       "    <tr>\n",
       "      <th>0</th>\n",
       "      <td>10+ years</td>\n",
       "      <td>24000.0</td>\n",
       "      <td>27.65</td>\n",
       "      <td>1.0</td>\n",
       "      <td>3.0</td>\n",
       "      <td>0.0</td>\n",
       "      <td>83.7</td>\n",
       "      <td>9.0</td>\n",
       "      <td>5861.071414</td>\n",
       "      <td>B</td>\n",
       "      <td>5000</td>\n",
       "      <td>36 months</td>\n",
       "      <td>162.87</td>\n",
       "    </tr>\n",
       "    <tr>\n",
       "      <th>1</th>\n",
       "      <td>&lt; 1 year</td>\n",
       "      <td>30000.0</td>\n",
       "      <td>1.00</td>\n",
       "      <td>5.0</td>\n",
       "      <td>3.0</td>\n",
       "      <td>0.0</td>\n",
       "      <td>9.4</td>\n",
       "      <td>4.0</td>\n",
       "      <td>1008.710000</td>\n",
       "      <td>C</td>\n",
       "      <td>2500</td>\n",
       "      <td>60 months</td>\n",
       "      <td>59.83</td>\n",
       "    </tr>\n",
       "    <tr>\n",
       "      <th>2</th>\n",
       "      <td>10+ years</td>\n",
       "      <td>12252.0</td>\n",
       "      <td>8.72</td>\n",
       "      <td>2.0</td>\n",
       "      <td>2.0</td>\n",
       "      <td>0.0</td>\n",
       "      <td>98.5</td>\n",
       "      <td>10.0</td>\n",
       "      <td>3003.653644</td>\n",
       "      <td>C</td>\n",
       "      <td>2400</td>\n",
       "      <td>36 months</td>\n",
       "      <td>84.33</td>\n",
       "    </tr>\n",
       "    <tr>\n",
       "      <th>3</th>\n",
       "      <td>10+ years</td>\n",
       "      <td>49200.0</td>\n",
       "      <td>20.00</td>\n",
       "      <td>1.0</td>\n",
       "      <td>10.0</td>\n",
       "      <td>0.0</td>\n",
       "      <td>21.0</td>\n",
       "      <td>37.0</td>\n",
       "      <td>12226.302210</td>\n",
       "      <td>C</td>\n",
       "      <td>10000</td>\n",
       "      <td>36 months</td>\n",
       "      <td>339.31</td>\n",
       "    </tr>\n",
       "    <tr>\n",
       "      <th>4</th>\n",
       "      <td>1 year</td>\n",
       "      <td>80000.0</td>\n",
       "      <td>17.94</td>\n",
       "      <td>0.0</td>\n",
       "      <td>15.0</td>\n",
       "      <td>0.0</td>\n",
       "      <td>53.9</td>\n",
       "      <td>38.0</td>\n",
       "      <td>3242.170000</td>\n",
       "      <td>B</td>\n",
       "      <td>3000</td>\n",
       "      <td>60 months</td>\n",
       "      <td>67.79</td>\n",
       "    </tr>\n",
       "  </tbody>\n",
       "</table>\n",
       "</div>"
      ],
      "text/plain": [
       "  emp_length  annual_inc    dti  inq_last_6mths  open_acc  pub_rec   \n",
       "0  10+ years     24000.0  27.65             1.0       3.0      0.0  \\\n",
       "1   < 1 year     30000.0   1.00             5.0       3.0      0.0   \n",
       "2  10+ years     12252.0   8.72             2.0       2.0      0.0   \n",
       "3  10+ years     49200.0  20.00             1.0      10.0      0.0   \n",
       "4     1 year     80000.0  17.94             0.0      15.0      0.0   \n",
       "\n",
       "   revol_util  total_acc   total_pymnt grade  loan_amnt        term   \n",
       "0        83.7        9.0   5861.071414     B       5000   36 months  \\\n",
       "1         9.4        4.0   1008.710000     C       2500   60 months   \n",
       "2        98.5       10.0   3003.653644     C       2400   36 months   \n",
       "3        21.0       37.0  12226.302210     C      10000   36 months   \n",
       "4        53.9       38.0   3242.170000     B       3000   60 months   \n",
       "\n",
       "   installment  \n",
       "0       162.87  \n",
       "1        59.83  \n",
       "2        84.33  \n",
       "3       339.31  \n",
       "4        67.79  "
      ]
     },
     "execution_count": 27,
     "metadata": {},
     "output_type": "execute_result"
    }
   ],
   "source": [
    "merged_X=data.drop(['loan_status'],axis=1)\n",
    "# merged_X.head()\n",
    "Y=data[['loan_status']]\n",
    "merged_X.head()"
   ]
  },
  {
   "cell_type": "code",
   "execution_count": 28,
   "metadata": {},
   "outputs": [],
   "source": [
    "# merged_X.describe()"
   ]
  },
  {
   "cell_type": "code",
   "execution_count": 29,
   "metadata": {},
   "outputs": [
    {
     "data": {
      "text/html": [
       "<div>\n",
       "<style scoped>\n",
       "    .dataframe tbody tr th:only-of-type {\n",
       "        vertical-align: middle;\n",
       "    }\n",
       "\n",
       "    .dataframe tbody tr th {\n",
       "        vertical-align: top;\n",
       "    }\n",
       "\n",
       "    .dataframe thead th {\n",
       "        text-align: right;\n",
       "    }\n",
       "</style>\n",
       "<table border=\"1\" class=\"dataframe\">\n",
       "  <thead>\n",
       "    <tr style=\"text-align: right;\">\n",
       "      <th></th>\n",
       "      <th>loan_status</th>\n",
       "    </tr>\n",
       "  </thead>\n",
       "  <tbody>\n",
       "    <tr>\n",
       "      <th>count</th>\n",
       "      <td>842067</td>\n",
       "    </tr>\n",
       "    <tr>\n",
       "      <th>unique</th>\n",
       "      <td>10</td>\n",
       "    </tr>\n",
       "    <tr>\n",
       "      <th>top</th>\n",
       "      <td>Current</td>\n",
       "    </tr>\n",
       "    <tr>\n",
       "      <th>freq</th>\n",
       "      <td>568447</td>\n",
       "    </tr>\n",
       "  </tbody>\n",
       "</table>\n",
       "</div>"
      ],
      "text/plain": [
       "       loan_status\n",
       "count       842067\n",
       "unique          10\n",
       "top        Current\n",
       "freq        568447"
      ]
     },
     "execution_count": 29,
     "metadata": {},
     "output_type": "execute_result"
    }
   ],
   "source": [
    "Y.describe()"
   ]
  },
  {
   "cell_type": "code",
   "execution_count": 30,
   "metadata": {},
   "outputs": [
    {
     "data": {
      "text/plain": [
       "array(['Fully Paid', 'Charged Off', 'Current', 'Default',\n",
       "       'Late (31-120 days)', 'In Grace Period', 'Late (16-30 days)',\n",
       "       'Does not meet the credit policy. Status:Fully Paid',\n",
       "       'Does not meet the credit policy. Status:Charged Off', 'Issued'],\n",
       "      dtype=object)"
      ]
     },
     "execution_count": 30,
     "metadata": {},
     "output_type": "execute_result"
    }
   ],
   "source": [
    "unique_values = pd.unique(Y['loan_status'])\n",
    "unique_values"
   ]
  },
  {
   "cell_type": "markdown",
   "metadata": {},
   "source": [
    "Fully Paid: 90-100% - Borrowers who have fully paid off their loans are considered low risk, so they should be approved for a loan with a high probability.\n",
    "Charged Off: 0-10% - Charged off loans represent a high risk, so borrowers with this status should be denied a loan with a very high probability.\n",
    "Current: 80-100% - Current borrowers are meeting their obligations, so they can be considered for a loan with a high probability.\n",
    "Default: 0-5% - Defaulted loans represent a very high risk, so borrowers with this status should be denied a loan with a very high probability.\n",
    "Late (31-120 days): 40-70% - Borrowers in this category are late on payments but may still catch up. They represent an increased risk, so they should be considered for a loan with caution.\n",
    "In Grace Period: 60-80% - Borrowers in the grace period have missed a payment but may catch up. They could be considered for a loan with a moderate probability.\n",
    "Late (16-30 days): 50-75% - Borrowers in this category are in the early stages of delinquency. They represent an increased risk but may still be considered for a loan.\n",
    "Does not meet the credit policy. Status:Fully Paid: 70-90% - Borrowers who fully paid but did not meet the credit policy may have some additional risk factors. They should be considered for a loan, but the probability may be lower than for borrowers who fully met the credit policy.\n",
    "Does not meet the credit policy. Status:Charged Off: 0-10% - Borrowers who did not meet the credit policy and ended up charged off represent a high risk. They should be denied a loan with a very high probability.\n",
    "Issued: 70-90% - Borrowers with issued loans may still have uncertainty regarding repayment but could be considered for a loan."
   ]
  },
  {
   "cell_type": "code",
   "execution_count": 31,
   "metadata": {},
   "outputs": [
    {
     "name": "stderr",
     "output_type": "stream",
     "text": [
      "C:\\Users\\HP\\AppData\\Local\\Temp\\ipykernel_50848\\1584429750.py:14: SettingWithCopyWarning: \n",
      "A value is trying to be set on a copy of a slice from a DataFrame.\n",
      "Try using .loc[row_indexer,col_indexer] = value instead\n",
      "\n",
      "See the caveats in the documentation: https://pandas.pydata.org/pandas-docs/stable/user_guide/indexing.html#returning-a-view-versus-a-copy\n",
      "  Y['loan_status_encoded'] = label_encoder.fit_transform(Y['loan_status'])\n"
     ]
    },
    {
     "data": {
      "text/plain": [
       "{'Fully Paid': 5,\n",
       " 'Charged Off': 0,\n",
       " 'Current': 1,\n",
       " 'Default': 2,\n",
       " 'Late (31-120 days)': 9,\n",
       " 'In Grace Period': 6,\n",
       " 'Late (16-30 days)': 8,\n",
       " 'Does not meet the credit policy. Status:Fully Paid': 4,\n",
       " 'Does not meet the credit policy. Status:Charged Off': 3,\n",
       " 'Issued': 7}"
      ]
     },
     "execution_count": 31,
     "metadata": {},
     "output_type": "execute_result"
    }
   ],
   "source": [
    "from sklearn.preprocessing import LabelEncoder\n",
    "\n",
    "# Assuming Y is your DataFrame containing the loan status column\n",
    "# List of loan status categories\n",
    "loan_status_categories = ['Fully Paid', 'Charged Off', 'Current', 'Default',\n",
    "                          'Late (31-120 days)', 'In Grace Period', 'Late (16-30 days)',\n",
    "                          'Does not meet the credit policy. Status:Fully Paid',\n",
    "                          'Does not meet the credit policy. Status:Charged Off', 'Issued']\n",
    "\n",
    "# Create a LabelEncoder object\n",
    "label_encoder = LabelEncoder()\n",
    "\n",
    "# Fit and transform the loan status column in Y to label encode it\n",
    "Y['loan_status_encoded'] = label_encoder.fit_transform(Y['loan_status'])\n",
    "# print(\"Mapping of categories to encoded numbers:\")\n",
    "encoding_mapping = {category: code for category, code in zip(loan_status_categories, label_encoder.transform(loan_status_categories))}\n",
    "\n",
    "encoding_mapping\n"
   ]
  },
  {
   "cell_type": "code",
   "execution_count": 32,
   "metadata": {},
   "outputs": [
    {
     "data": {
      "text/html": [
       "<div>\n",
       "<style scoped>\n",
       "    .dataframe tbody tr th:only-of-type {\n",
       "        vertical-align: middle;\n",
       "    }\n",
       "\n",
       "    .dataframe tbody tr th {\n",
       "        vertical-align: top;\n",
       "    }\n",
       "\n",
       "    .dataframe thead th {\n",
       "        text-align: right;\n",
       "    }\n",
       "</style>\n",
       "<table border=\"1\" class=\"dataframe\">\n",
       "  <thead>\n",
       "    <tr style=\"text-align: right;\">\n",
       "      <th></th>\n",
       "      <th>loan_status</th>\n",
       "      <th>loan_status_encoded</th>\n",
       "    </tr>\n",
       "  </thead>\n",
       "  <tbody>\n",
       "    <tr>\n",
       "      <th>0</th>\n",
       "      <td>Fully Paid</td>\n",
       "      <td>5</td>\n",
       "    </tr>\n",
       "    <tr>\n",
       "      <th>1</th>\n",
       "      <td>Charged Off</td>\n",
       "      <td>0</td>\n",
       "    </tr>\n",
       "    <tr>\n",
       "      <th>2</th>\n",
       "      <td>Fully Paid</td>\n",
       "      <td>5</td>\n",
       "    </tr>\n",
       "    <tr>\n",
       "      <th>3</th>\n",
       "      <td>Fully Paid</td>\n",
       "      <td>5</td>\n",
       "    </tr>\n",
       "    <tr>\n",
       "      <th>4</th>\n",
       "      <td>Current</td>\n",
       "      <td>1</td>\n",
       "    </tr>\n",
       "  </tbody>\n",
       "</table>\n",
       "</div>"
      ],
      "text/plain": [
       "   loan_status  loan_status_encoded\n",
       "0   Fully Paid                    5\n",
       "1  Charged Off                    0\n",
       "2   Fully Paid                    5\n",
       "3   Fully Paid                    5\n",
       "4      Current                    1"
      ]
     },
     "execution_count": 32,
     "metadata": {},
     "output_type": "execute_result"
    }
   ],
   "source": [
    "Y.head()"
   ]
  },
  {
   "cell_type": "code",
   "execution_count": 33,
   "metadata": {},
   "outputs": [],
   "source": [
    "# merged_X['term']"
   ]
  },
  {
   "cell_type": "code",
   "execution_count": 34,
   "metadata": {},
   "outputs": [],
   "source": [
    "import re\n",
    "# Extract numerical years from 'emp_length' using regex\n",
    "merged_X['emp_length_years'] = merged_X['emp_length'].apply(lambda x: re.findall(r'\\d+', str(x))[0] if pd.notnull(x) else np.nan)\n",
    "\n",
    "# Convert 'emp_length_years' to numeric\n",
    "merged_X['emp_length_years'] = pd.to_numeric(merged_X['emp_length_years'], errors='coerce')\n",
    "merged_X['grade_encoded'] = label_encoder.fit_transform(merged_X['grade'])\n",
    "merged_X['term_months'] = merged_X['term'].apply(lambda x: int(re.findall(r'\\d+', x)[0]))"
   ]
  },
  {
   "cell_type": "code",
   "execution_count": 35,
   "metadata": {},
   "outputs": [
    {
     "data": {
      "text/html": [
       "<div>\n",
       "<style scoped>\n",
       "    .dataframe tbody tr th:only-of-type {\n",
       "        vertical-align: middle;\n",
       "    }\n",
       "\n",
       "    .dataframe tbody tr th {\n",
       "        vertical-align: top;\n",
       "    }\n",
       "\n",
       "    .dataframe thead th {\n",
       "        text-align: right;\n",
       "    }\n",
       "</style>\n",
       "<table border=\"1\" class=\"dataframe\">\n",
       "  <thead>\n",
       "    <tr style=\"text-align: right;\">\n",
       "      <th></th>\n",
       "      <th>emp_length</th>\n",
       "      <th>annual_inc</th>\n",
       "      <th>dti</th>\n",
       "      <th>inq_last_6mths</th>\n",
       "      <th>open_acc</th>\n",
       "      <th>pub_rec</th>\n",
       "      <th>revol_util</th>\n",
       "      <th>total_acc</th>\n",
       "      <th>total_pymnt</th>\n",
       "      <th>grade</th>\n",
       "      <th>loan_amnt</th>\n",
       "      <th>term</th>\n",
       "      <th>installment</th>\n",
       "      <th>emp_length_years</th>\n",
       "      <th>grade_encoded</th>\n",
       "      <th>term_months</th>\n",
       "    </tr>\n",
       "  </thead>\n",
       "  <tbody>\n",
       "    <tr>\n",
       "      <th>0</th>\n",
       "      <td>10+ years</td>\n",
       "      <td>24000.0</td>\n",
       "      <td>27.65</td>\n",
       "      <td>1.0</td>\n",
       "      <td>3.0</td>\n",
       "      <td>0.0</td>\n",
       "      <td>83.7</td>\n",
       "      <td>9.0</td>\n",
       "      <td>5861.071414</td>\n",
       "      <td>B</td>\n",
       "      <td>5000</td>\n",
       "      <td>36 months</td>\n",
       "      <td>162.87</td>\n",
       "      <td>10</td>\n",
       "      <td>1</td>\n",
       "      <td>36</td>\n",
       "    </tr>\n",
       "    <tr>\n",
       "      <th>1</th>\n",
       "      <td>&lt; 1 year</td>\n",
       "      <td>30000.0</td>\n",
       "      <td>1.00</td>\n",
       "      <td>5.0</td>\n",
       "      <td>3.0</td>\n",
       "      <td>0.0</td>\n",
       "      <td>9.4</td>\n",
       "      <td>4.0</td>\n",
       "      <td>1008.710000</td>\n",
       "      <td>C</td>\n",
       "      <td>2500</td>\n",
       "      <td>60 months</td>\n",
       "      <td>59.83</td>\n",
       "      <td>1</td>\n",
       "      <td>2</td>\n",
       "      <td>60</td>\n",
       "    </tr>\n",
       "    <tr>\n",
       "      <th>2</th>\n",
       "      <td>10+ years</td>\n",
       "      <td>12252.0</td>\n",
       "      <td>8.72</td>\n",
       "      <td>2.0</td>\n",
       "      <td>2.0</td>\n",
       "      <td>0.0</td>\n",
       "      <td>98.5</td>\n",
       "      <td>10.0</td>\n",
       "      <td>3003.653644</td>\n",
       "      <td>C</td>\n",
       "      <td>2400</td>\n",
       "      <td>36 months</td>\n",
       "      <td>84.33</td>\n",
       "      <td>10</td>\n",
       "      <td>2</td>\n",
       "      <td>36</td>\n",
       "    </tr>\n",
       "    <tr>\n",
       "      <th>3</th>\n",
       "      <td>10+ years</td>\n",
       "      <td>49200.0</td>\n",
       "      <td>20.00</td>\n",
       "      <td>1.0</td>\n",
       "      <td>10.0</td>\n",
       "      <td>0.0</td>\n",
       "      <td>21.0</td>\n",
       "      <td>37.0</td>\n",
       "      <td>12226.302210</td>\n",
       "      <td>C</td>\n",
       "      <td>10000</td>\n",
       "      <td>36 months</td>\n",
       "      <td>339.31</td>\n",
       "      <td>10</td>\n",
       "      <td>2</td>\n",
       "      <td>36</td>\n",
       "    </tr>\n",
       "    <tr>\n",
       "      <th>4</th>\n",
       "      <td>1 year</td>\n",
       "      <td>80000.0</td>\n",
       "      <td>17.94</td>\n",
       "      <td>0.0</td>\n",
       "      <td>15.0</td>\n",
       "      <td>0.0</td>\n",
       "      <td>53.9</td>\n",
       "      <td>38.0</td>\n",
       "      <td>3242.170000</td>\n",
       "      <td>B</td>\n",
       "      <td>3000</td>\n",
       "      <td>60 months</td>\n",
       "      <td>67.79</td>\n",
       "      <td>1</td>\n",
       "      <td>1</td>\n",
       "      <td>60</td>\n",
       "    </tr>\n",
       "  </tbody>\n",
       "</table>\n",
       "</div>"
      ],
      "text/plain": [
       "  emp_length  annual_inc    dti  inq_last_6mths  open_acc  pub_rec   \n",
       "0  10+ years     24000.0  27.65             1.0       3.0      0.0  \\\n",
       "1   < 1 year     30000.0   1.00             5.0       3.0      0.0   \n",
       "2  10+ years     12252.0   8.72             2.0       2.0      0.0   \n",
       "3  10+ years     49200.0  20.00             1.0      10.0      0.0   \n",
       "4     1 year     80000.0  17.94             0.0      15.0      0.0   \n",
       "\n",
       "   revol_util  total_acc   total_pymnt grade  loan_amnt        term   \n",
       "0        83.7        9.0   5861.071414     B       5000   36 months  \\\n",
       "1         9.4        4.0   1008.710000     C       2500   60 months   \n",
       "2        98.5       10.0   3003.653644     C       2400   36 months   \n",
       "3        21.0       37.0  12226.302210     C      10000   36 months   \n",
       "4        53.9       38.0   3242.170000     B       3000   60 months   \n",
       "\n",
       "   installment  emp_length_years  grade_encoded  term_months  \n",
       "0       162.87                10              1           36  \n",
       "1        59.83                 1              2           60  \n",
       "2        84.33                10              2           36  \n",
       "3       339.31                10              2           36  \n",
       "4        67.79                 1              1           60  "
      ]
     },
     "execution_count": 35,
     "metadata": {},
     "output_type": "execute_result"
    }
   ],
   "source": [
    "merged_X.head()"
   ]
  },
  {
   "cell_type": "code",
   "execution_count": 36,
   "metadata": {},
   "outputs": [
    {
     "data": {
      "text/html": [
       "<div>\n",
       "<style scoped>\n",
       "    .dataframe tbody tr th:only-of-type {\n",
       "        vertical-align: middle;\n",
       "    }\n",
       "\n",
       "    .dataframe tbody tr th {\n",
       "        vertical-align: top;\n",
       "    }\n",
       "\n",
       "    .dataframe thead th {\n",
       "        text-align: right;\n",
       "    }\n",
       "</style>\n",
       "<table border=\"1\" class=\"dataframe\">\n",
       "  <thead>\n",
       "    <tr style=\"text-align: right;\">\n",
       "      <th></th>\n",
       "      <th>annual_inc</th>\n",
       "      <th>dti</th>\n",
       "      <th>inq_last_6mths</th>\n",
       "      <th>open_acc</th>\n",
       "      <th>total_acc</th>\n",
       "      <th>revol_util</th>\n",
       "      <th>total_pymnt</th>\n",
       "      <th>grade_encoded</th>\n",
       "      <th>loan_amnt</th>\n",
       "      <th>term_months</th>\n",
       "      <th>emp_length_years</th>\n",
       "      <th>installment</th>\n",
       "    </tr>\n",
       "  </thead>\n",
       "  <tbody>\n",
       "    <tr>\n",
       "      <th>0</th>\n",
       "      <td>24000.0</td>\n",
       "      <td>27.65</td>\n",
       "      <td>1.0</td>\n",
       "      <td>3.0</td>\n",
       "      <td>9.0</td>\n",
       "      <td>83.7</td>\n",
       "      <td>5861.071414</td>\n",
       "      <td>1</td>\n",
       "      <td>5000</td>\n",
       "      <td>36</td>\n",
       "      <td>10</td>\n",
       "      <td>162.87</td>\n",
       "    </tr>\n",
       "    <tr>\n",
       "      <th>1</th>\n",
       "      <td>30000.0</td>\n",
       "      <td>1.00</td>\n",
       "      <td>5.0</td>\n",
       "      <td>3.0</td>\n",
       "      <td>4.0</td>\n",
       "      <td>9.4</td>\n",
       "      <td>1008.710000</td>\n",
       "      <td>2</td>\n",
       "      <td>2500</td>\n",
       "      <td>60</td>\n",
       "      <td>1</td>\n",
       "      <td>59.83</td>\n",
       "    </tr>\n",
       "    <tr>\n",
       "      <th>2</th>\n",
       "      <td>12252.0</td>\n",
       "      <td>8.72</td>\n",
       "      <td>2.0</td>\n",
       "      <td>2.0</td>\n",
       "      <td>10.0</td>\n",
       "      <td>98.5</td>\n",
       "      <td>3003.653644</td>\n",
       "      <td>2</td>\n",
       "      <td>2400</td>\n",
       "      <td>36</td>\n",
       "      <td>10</td>\n",
       "      <td>84.33</td>\n",
       "    </tr>\n",
       "    <tr>\n",
       "      <th>3</th>\n",
       "      <td>49200.0</td>\n",
       "      <td>20.00</td>\n",
       "      <td>1.0</td>\n",
       "      <td>10.0</td>\n",
       "      <td>37.0</td>\n",
       "      <td>21.0</td>\n",
       "      <td>12226.302210</td>\n",
       "      <td>2</td>\n",
       "      <td>10000</td>\n",
       "      <td>36</td>\n",
       "      <td>10</td>\n",
       "      <td>339.31</td>\n",
       "    </tr>\n",
       "    <tr>\n",
       "      <th>4</th>\n",
       "      <td>80000.0</td>\n",
       "      <td>17.94</td>\n",
       "      <td>0.0</td>\n",
       "      <td>15.0</td>\n",
       "      <td>38.0</td>\n",
       "      <td>53.9</td>\n",
       "      <td>3242.170000</td>\n",
       "      <td>1</td>\n",
       "      <td>3000</td>\n",
       "      <td>60</td>\n",
       "      <td>1</td>\n",
       "      <td>67.79</td>\n",
       "    </tr>\n",
       "  </tbody>\n",
       "</table>\n",
       "</div>"
      ],
      "text/plain": [
       "   annual_inc    dti  inq_last_6mths  open_acc  total_acc  revol_util   \n",
       "0     24000.0  27.65             1.0       3.0        9.0        83.7  \\\n",
       "1     30000.0   1.00             5.0       3.0        4.0         9.4   \n",
       "2     12252.0   8.72             2.0       2.0       10.0        98.5   \n",
       "3     49200.0  20.00             1.0      10.0       37.0        21.0   \n",
       "4     80000.0  17.94             0.0      15.0       38.0        53.9   \n",
       "\n",
       "    total_pymnt  grade_encoded  loan_amnt  term_months  emp_length_years   \n",
       "0   5861.071414              1       5000           36                10  \\\n",
       "1   1008.710000              2       2500           60                 1   \n",
       "2   3003.653644              2       2400           36                10   \n",
       "3  12226.302210              2      10000           36                10   \n",
       "4   3242.170000              1       3000           60                 1   \n",
       "\n",
       "   installment  \n",
       "0       162.87  \n",
       "1        59.83  \n",
       "2        84.33  \n",
       "3       339.31  \n",
       "4        67.79  "
      ]
     },
     "execution_count": 36,
     "metadata": {},
     "output_type": "execute_result"
    }
   ],
   "source": [
    "X_Final_cols=['annual_inc','dti','inq_last_6mths','open_acc','total_acc','revol_util','total_pymnt','grade_encoded','loan_amnt','term_months','emp_length_years','installment']\n",
    "X_Final=merged_X[X_Final_cols]\n",
    "X_Final.head()"
   ]
  },
  {
   "cell_type": "code",
   "execution_count": 37,
   "metadata": {},
   "outputs": [],
   "source": [
    "# Y_Final="
   ]
  },
  {
   "cell_type": "code",
   "execution_count": 38,
   "metadata": {},
   "outputs": [
    {
     "data": {
      "text/plain": [
       "0    5\n",
       "1    0\n",
       "2    5\n",
       "3    5\n",
       "4    1\n",
       "Name: loan_status_encoded, dtype: int32"
      ]
     },
     "execution_count": 38,
     "metadata": {},
     "output_type": "execute_result"
    }
   ],
   "source": [
    "Y_Final=Y['loan_status_encoded']\n",
    "Y_Final.head()"
   ]
  },
  {
   "cell_type": "code",
   "execution_count": 51,
   "metadata": {},
   "outputs": [],
   "source": [
    "from sklearn.ensemble import RandomForestClassifier\n",
    "from sklearn.model_selection import train_test_split\n",
    "import pandas as pd\n",
    "\n",
    "# Assume X contains your features and y contains your target variable\n",
    "# Split the data into training and testing sets\n",
    "X_train, X_test, y_train, y_test = train_test_split(X_Final, Y_Final, test_size=0.2, random_state=42)\n",
    "\n",
    "# Drop rows with missing values from the training data\n",
    "# y_train = y_train[X_train.index]  # Make sure to adjust y_train accordingly\n",
    "\n",
    "# # Initialize and fit the RandomForestClassifier\n",
    "# rf_classifier = RandomForestClassifier()\n",
    "# rf_classifier.fit(X_train, y_train)\n",
    "\n",
    "# # Evaluate the model on the test data\n",
    "# accuracy = rf_classifier.score(X_test, y_test)\n",
    "# print(\"Accuracy:\", accuracy)"
   ]
  },
  {
   "cell_type": "code",
   "execution_count": 52,
   "metadata": {},
   "outputs": [
    {
     "data": {
      "text/html": [
       "<div>\n",
       "<style scoped>\n",
       "    .dataframe tbody tr th:only-of-type {\n",
       "        vertical-align: middle;\n",
       "    }\n",
       "\n",
       "    .dataframe tbody tr th {\n",
       "        vertical-align: top;\n",
       "    }\n",
       "\n",
       "    .dataframe thead th {\n",
       "        text-align: right;\n",
       "    }\n",
       "</style>\n",
       "<table border=\"1\" class=\"dataframe\">\n",
       "  <thead>\n",
       "    <tr style=\"text-align: right;\">\n",
       "      <th></th>\n",
       "      <th>annual_inc</th>\n",
       "      <th>dti</th>\n",
       "      <th>inq_last_6mths</th>\n",
       "      <th>open_acc</th>\n",
       "      <th>total_acc</th>\n",
       "      <th>revol_util</th>\n",
       "      <th>total_pymnt</th>\n",
       "      <th>grade_encoded</th>\n",
       "      <th>loan_amnt</th>\n",
       "      <th>term_months</th>\n",
       "      <th>emp_length_years</th>\n",
       "      <th>installment</th>\n",
       "    </tr>\n",
       "  </thead>\n",
       "  <tbody>\n",
       "    <tr>\n",
       "      <th>240180</th>\n",
       "      <td>78000.0</td>\n",
       "      <td>22.69</td>\n",
       "      <td>0.0</td>\n",
       "      <td>12.0</td>\n",
       "      <td>15.0</td>\n",
       "      <td>82.0</td>\n",
       "      <td>7377.60</td>\n",
       "      <td>1</td>\n",
       "      <td>27600</td>\n",
       "      <td>60</td>\n",
       "      <td>7</td>\n",
       "      <td>568.53</td>\n",
       "    </tr>\n",
       "    <tr>\n",
       "      <th>770238</th>\n",
       "      <td>51000.0</td>\n",
       "      <td>13.81</td>\n",
       "      <td>2.0</td>\n",
       "      <td>7.0</td>\n",
       "      <td>30.0</td>\n",
       "      <td>37.6</td>\n",
       "      <td>9601.81</td>\n",
       "      <td>5</td>\n",
       "      <td>8975</td>\n",
       "      <td>36</td>\n",
       "      <td>10</td>\n",
       "      <td>352.07</td>\n",
       "    </tr>\n",
       "    <tr>\n",
       "      <th>845834</th>\n",
       "      <td>95000.0</td>\n",
       "      <td>19.02</td>\n",
       "      <td>1.0</td>\n",
       "      <td>8.0</td>\n",
       "      <td>16.0</td>\n",
       "      <td>50.4</td>\n",
       "      <td>2479.85</td>\n",
       "      <td>3</td>\n",
       "      <td>6250</td>\n",
       "      <td>36</td>\n",
       "      <td>7</td>\n",
       "      <td>223.27</td>\n",
       "    </tr>\n",
       "    <tr>\n",
       "      <th>64475</th>\n",
       "      <td>47500.0</td>\n",
       "      <td>32.43</td>\n",
       "      <td>6.0</td>\n",
       "      <td>10.0</td>\n",
       "      <td>22.0</td>\n",
       "      <td>73.9</td>\n",
       "      <td>8712.80</td>\n",
       "      <td>4</td>\n",
       "      <td>19000</td>\n",
       "      <td>60</td>\n",
       "      <td>2</td>\n",
       "      <td>521.53</td>\n",
       "    </tr>\n",
       "    <tr>\n",
       "      <th>440614</th>\n",
       "      <td>45000.0</td>\n",
       "      <td>23.49</td>\n",
       "      <td>0.0</td>\n",
       "      <td>10.0</td>\n",
       "      <td>27.0</td>\n",
       "      <td>66.2</td>\n",
       "      <td>13308.03</td>\n",
       "      <td>1</td>\n",
       "      <td>12000</td>\n",
       "      <td>36</td>\n",
       "      <td>10</td>\n",
       "      <td>398.52</td>\n",
       "    </tr>\n",
       "  </tbody>\n",
       "</table>\n",
       "</div>"
      ],
      "text/plain": [
       "        annual_inc    dti  inq_last_6mths  open_acc  total_acc  revol_util   \n",
       "240180     78000.0  22.69             0.0      12.0       15.0        82.0  \\\n",
       "770238     51000.0  13.81             2.0       7.0       30.0        37.6   \n",
       "845834     95000.0  19.02             1.0       8.0       16.0        50.4   \n",
       "64475      47500.0  32.43             6.0      10.0       22.0        73.9   \n",
       "440614     45000.0  23.49             0.0      10.0       27.0        66.2   \n",
       "\n",
       "        total_pymnt  grade_encoded  loan_amnt  term_months  emp_length_years   \n",
       "240180      7377.60              1      27600           60                 7  \\\n",
       "770238      9601.81              5       8975           36                10   \n",
       "845834      2479.85              3       6250           36                 7   \n",
       "64475       8712.80              4      19000           60                 2   \n",
       "440614     13308.03              1      12000           36                10   \n",
       "\n",
       "        installment  \n",
       "240180       568.53  \n",
       "770238       352.07  \n",
       "845834       223.27  \n",
       "64475        521.53  \n",
       "440614       398.52  "
      ]
     },
     "execution_count": 52,
     "metadata": {},
     "output_type": "execute_result"
    }
   ],
   "source": [
    "X_train.head()"
   ]
  },
  {
   "cell_type": "code",
   "execution_count": 53,
   "metadata": {},
   "outputs": [
    {
     "name": "stdout",
     "output_type": "stream",
     "text": [
      "Accuracy: 0.8882990725236619\n"
     ]
    }
   ],
   "source": [
    "from xgboost import XGBClassifier\n",
    "from sklearn.metrics import accuracy_score\n",
    "model = XGBClassifier()\n",
    "\n",
    "# Train the classifier\n",
    "model.fit(X_train, y_train)\n",
    "\n",
    "# Make predictions on the test data\n",
    "y_pred = model.predict(X_test)\n",
    "\n",
    "# Calculate the accuracy of the model\n",
    "accuracy = accuracy_score(y_test, y_pred)\n",
    "print(\"Accuracy:\", accuracy)"
   ]
  },
  {
   "cell_type": "code",
   "execution_count": 54,
   "metadata": {},
   "outputs": [
    {
     "name": "stdout",
     "output_type": "stream",
     "text": [
      "Precision: 0.7366598755509935\n"
     ]
    }
   ],
   "source": [
    "from sklearn.metrics import precision_score, recall_score, f1_score, roc_curve, auc, confusion_matrix\n",
    "from sklearn.datasets import make_classification\n",
    "\n",
    "# Calculate precision, recall, F1 score\n",
    "y_proba = model.predict_proba(X_test)\n",
    "\n",
    "# Predictions (multiclass)\n",
    "y_pred = model.predict(X_test)\n",
    "\n",
    "# Calculate precision, recall, F1 score (macro average)\n",
    "precision = precision_score(y_test, y_pred, average='macro', zero_division=1)\n",
    "recall = recall_score(y_test, y_pred, average='macro', zero_division=1)\n",
    "f1 = f1_score(y_test, y_pred, average='macro', zero_division=1)\n",
    "\n",
    "# Calculate confusion matrix\n",
    "conf_matrix = confusion_matrix(y_test, y_pred)\n",
    "\n",
    "# Calculate confusion matrix\n",
    "conf_matrix = confusion_matrix(y_test, y_pred)\n",
    "\n",
    "print(\"Precision:\", precision)\n"
   ]
  },
  {
   "cell_type": "code",
   "execution_count": 55,
   "metadata": {},
   "outputs": [
    {
     "name": "stdout",
     "output_type": "stream",
     "text": [
      "Recall: 0.31672485256183747\n"
     ]
    }
   ],
   "source": [
    "print(\"Recall:\", recall)\n"
   ]
  },
  {
   "cell_type": "code",
   "execution_count": 56,
   "metadata": {},
   "outputs": [
    {
     "name": "stdout",
     "output_type": "stream",
     "text": [
      "F1 Score: 0.4354321023034454\n"
     ]
    }
   ],
   "source": [
    "print(\"F1 Score:\", f1)"
   ]
  },
  {
   "cell_type": "code",
   "execution_count": 49,
   "metadata": {},
   "outputs": [
    {
     "name": "stdout",
     "output_type": "stream",
     "text": [
      "[[   220   7811      0     16      1    323      0     15      0      0]\n",
      " [    65 109066      0      4      8   4196      0    634      0      1]\n",
      " [     0    232      0      0      0      7      0      0      0      0]\n",
      " [     4     56      0     46      9     11      0      0      0      0]\n",
      " [     0      2      0      4    186    234      0      0      0      0]\n",
      " [     7    368      0      0     47  39491      0      1      0      0]\n",
      " [     2   1090      0      1      0     97      0     18      0      0]\n",
      " [     0    916      0      0      0      0      0    593      0      0]\n",
      " [     1    457      0      0      0     19      0      3      0      0]\n",
      " [     3   2044      0      0      0    101      0      4      0      0]]\n"
     ]
    }
   ],
   "source": [
    "print(conf_matrix)"
   ]
  },
  {
   "cell_type": "code",
   "execution_count": 50,
   "metadata": {},
   "outputs": [
    {
     "data": {
      "text/plain": [
       "array([[9.0386227e-02, 8.6103982e-01, 8.7377540e-04, ..., 2.8911923e-06,\n",
       "        3.9709359e-03, 2.2112159e-02],\n",
       "       [1.3149285e-02, 9.1797513e-01, 1.5731076e-03, ..., 4.2527604e-06,\n",
       "        1.2182831e-02, 2.6297994e-02],\n",
       "       [3.9878104e-02, 9.3448275e-01, 9.3723385e-04, ..., 1.8488504e-06,\n",
       "        4.5358120e-03, 1.1723700e-02],\n",
       "       ...,\n",
       "       [1.8004505e-03, 2.6141558e-02, 5.7371788e-05, ..., 5.0694489e-05,\n",
       "        9.6107527e-05, 6.7082542e-04],\n",
       "       [1.1913683e-02, 9.7025776e-01, 3.7179430e-04, ..., 2.7195709e-05,\n",
       "        1.6178751e-03, 1.1169600e-02],\n",
       "       [1.6562837e-03, 2.7846679e-02, 4.0710609e-05, ..., 2.6196492e-06,\n",
       "        1.3883601e-04, 7.8614446e-04]], dtype=float32)"
      ]
     },
     "execution_count": 50,
     "metadata": {},
     "output_type": "execute_result"
    }
   ],
   "source": [
    "y_proba"
   ]
  },
  {
   "cell_type": "code",
   "execution_count": null,
   "metadata": {},
   "outputs": [
    {
     "data": {
      "text/plain": [
       "array([0], dtype=int64)"
      ]
     },
     "execution_count": 89,
     "metadata": {},
     "output_type": "execute_result"
    }
   ],
   "source": [
    "# array_pred=[\n",
    "#     'emp_length',\n",
    "#     'annual_inc',\n",
    "#     'dti',\n",
    "#     'inq_last_6mths',\n",
    "#     'open_acc',\n",
    "#     'pub_rec',\n",
    "#     'revol_util',\n",
    "#     'total_acc',\n",
    "#     'total_pymnt',\n",
    "#     'grade',\n",
    "#     'loan_amnt',\n",
    "#     'term',\n",
    "#     'installment'\n",
    "# ]\n",
    "# annual_inc\tdti\tinq_last_6mths\topen_acc\ttotal_acc\trevol_util\ttotal_pymnt\tgrade_encoded\tloan_amnt\tterm_months\temp_length_years\tinstallment\n",
    "# 'annual_inc','dti','inq_last_6mths','open_acc','total_acc','revol_util','total_pymnt','grade_encoded','loan_amnt','term_months','emp_length_years','installment'\n",
    "# array_pred1=[250,7,5,6,8,0,0,2,25000000000000,24,0,125000]\n",
    "# y_pred = model.predict([array_pred1])\n",
    "# y_pred\n",
    "# encoding_mapping\n",
    "# predicted_classes = [encoding_mapping[y_pred] for y_pred in label]\n",
    "\n",
    "# Display the result\n",
    "# print(predicted_classes)\n"
   ]
  },
  {
   "cell_type": "code",
   "execution_count": null,
   "metadata": {},
   "outputs": [],
   "source": [
    "import pickle\n",
    "with open('xgboost_model.pkl', 'wb') as f:\n",
    "    pickle.dump(model, f)"
   ]
  },
  {
   "cell_type": "code",
   "execution_count": null,
   "metadata": {},
   "outputs": [
    {
     "data": {
      "text/plain": [
       "{'Fully Paid': 5,\n",
       " 'Charged Off': 0,\n",
       " 'Current': 1,\n",
       " 'Default': 2,\n",
       " 'Late (31-120 days)': 9,\n",
       " 'In Grace Period': 6,\n",
       " 'Late (16-30 days)': 8,\n",
       " 'Does not meet the credit policy. Status:Fully Paid': 4,\n",
       " 'Does not meet the credit policy. Status:Charged Off': 3,\n",
       " 'Issued': 7}"
      ]
     },
     "execution_count": 83,
     "metadata": {},
     "output_type": "execute_result"
    }
   ],
   "source": [
    "encoding_mapping"
   ]
  },
  {
   "cell_type": "markdown",
   "metadata": {},
   "source": [
    "Neural Network Model."
   ]
  },
  {
   "cell_type": "code",
   "execution_count": 57,
   "metadata": {},
   "outputs": [
    {
     "name": "stdout",
     "output_type": "stream",
     "text": [
      "WARNING:tensorflow:From c:\\Users\\HP\\AppData\\Local\\Programs\\Python\\Python311\\Lib\\site-packages\\keras\\src\\losses.py:2976: The name tf.losses.sparse_softmax_cross_entropy is deprecated. Please use tf.compat.v1.losses.sparse_softmax_cross_entropy instead.\n",
      "\n",
      "WARNING:tensorflow:From c:\\Users\\HP\\AppData\\Local\\Programs\\Python\\Python311\\Lib\\site-packages\\keras\\src\\backend.py:873: The name tf.get_default_graph is deprecated. Please use tf.compat.v1.get_default_graph instead.\n",
      "\n",
      "WARNING:tensorflow:From c:\\Users\\HP\\AppData\\Local\\Programs\\Python\\Python311\\Lib\\site-packages\\keras\\src\\optimizers\\__init__.py:309: The name tf.train.Optimizer is deprecated. Please use tf.compat.v1.train.Optimizer instead.\n",
      "\n",
      "Epoch 1/10\n",
      "WARNING:tensorflow:From c:\\Users\\HP\\AppData\\Local\\Programs\\Python\\Python311\\Lib\\site-packages\\keras\\src\\utils\\tf_utils.py:492: The name tf.ragged.RaggedTensorValue is deprecated. Please use tf.compat.v1.ragged.RaggedTensorValue instead.\n",
      "\n",
      "WARNING:tensorflow:From c:\\Users\\HP\\AppData\\Local\\Programs\\Python\\Python311\\Lib\\site-packages\\keras\\src\\engine\\base_layer_utils.py:384: The name tf.executing_eagerly_outside_functions is deprecated. Please use tf.compat.v1.executing_eagerly_outside_functions instead.\n",
      "\n",
      "21052/21052 [==============================] - 40s 2ms/step - loss: -8999.3604 - accuracy: 0.6737\n",
      "Epoch 2/10\n",
      "21052/21052 [==============================] - 35s 2ms/step - loss: -55597.2617 - accuracy: 0.6746\n",
      "Epoch 3/10\n",
      "21052/21052 [==============================] - 50s 2ms/step - loss: -149394.5000 - accuracy: 0.6746\n",
      "Epoch 4/10\n",
      "21052/21052 [==============================] - 56s 3ms/step - loss: -293628.8750 - accuracy: 0.6746\n",
      "Epoch 5/10\n",
      "21052/21052 [==============================] - 39s 2ms/step - loss: -488335.0000 - accuracy: 0.6746\n",
      "Epoch 6/10\n",
      "21052/21052 [==============================] - 40s 2ms/step - loss: -733190.9375 - accuracy: 0.6746\n",
      "Epoch 7/10\n",
      "21052/21052 [==============================] - 37s 2ms/step - loss: -1028235.2500 - accuracy: 0.6746\n",
      "Epoch 8/10\n",
      "21052/21052 [==============================] - 37s 2ms/step - loss: -1373523.6250 - accuracy: 0.6746\n",
      "Epoch 9/10\n",
      "21052/21052 [==============================] - 39s 2ms/step - loss: -1769398.3750 - accuracy: 0.6746\n",
      "Epoch 10/10\n",
      "21052/21052 [==============================] - 38s 2ms/step - loss: -2215955.7500 - accuracy: 0.6746\n",
      "5263/5263 [==============================] - 10s 2ms/step - loss: -2451453.5000 - accuracy: 0.6767\n",
      "Test Loss: -2451453.5\n",
      "Test Accuracy: 0.6767489910125732\n"
     ]
    }
   ],
   "source": [
    "from sklearn.preprocessing import StandardScaler\n",
    "from keras.models import Sequential\n",
    "from keras.layers import Dense\n",
    "\n",
    "# Standardize the features\n",
    "scaler = StandardScaler()\n",
    "X_train_scaled = scaler.fit_transform(X_train)\n",
    "X_test_scaled = scaler.transform(X_test)\n",
    "\n",
    "# Define the neural network model\n",
    "model = Sequential()\n",
    "model.add(Dense(32, activation='relu', input_dim=12))  # 12 input features, 32 neurons in the first hidden layer\n",
    "model.add(Dense(1, activation='sigmoid'))  # Output layer with 1 neuron and sigmoid activation for binary classification\n",
    "\n",
    "# Compile the model\n",
    "model.compile(optimizer='adam', loss='binary_crossentropy', metrics=['accuracy'])\n",
    "\n",
    "# Train the model\n",
    "model.fit(X_train_scaled, y_train, epochs=10, batch_size=32, verbose=1)\n",
    "\n",
    "# Evaluate the model on test data\n",
    "loss, accuracy = model.evaluate(X_test_scaled, y_test)\n",
    "print(\"Test Loss:\", loss)\n",
    "print(\"Test Accuracy:\", accuracy)\n"
   ]
  },
  {
   "cell_type": "code",
   "execution_count": 59,
   "metadata": {},
   "outputs": [
    {
     "name": "stdout",
     "output_type": "stream",
     "text": [
      "Accuracy: 0.879386511810182\n"
     ]
    }
   ],
   "source": [
    "from sklearn.linear_model import LogisticRegression\n",
    "from sklearn.metrics import accuracy_score\n",
    "\n",
    "# Initialize logistic regression model\n",
    "logistic_regression_model = LogisticRegression(max_iter=1000)\n",
    "\n",
    "# Train the model\n",
    "logistic_regression_model.fit(X_train_scaled, y_train)\n",
    "\n",
    "# Make predictions\n",
    "y_pred = logistic_regression_model.predict(X_test_scaled)\n",
    "\n",
    "# Calculate accuracy\n",
    "accuracy = accuracy_score(y_test, y_pred)\n",
    "print(\"Accuracy:\", accuracy)\n"
   ]
  },
  {
   "cell_type": "code",
   "execution_count": 61,
   "metadata": {},
   "outputs": [
    {
     "name": "stdout",
     "output_type": "stream",
     "text": [
      "Precision: 0.7548464882204946\n"
     ]
    }
   ],
   "source": [
    "# Calculate precision\n",
    "precision = precision_score(y_test, y_pred, average='macro', zero_division=1)\n",
    "\n",
    "# Calculate recall\n",
    "recall = recall_score(y_test, y_pred, average='macro', zero_division=1)\n",
    "\n",
    "# Calculate F1 score\n",
    "f1 = f1_score(y_test, y_pred, average='macro', zero_division=1)\n",
    "\n",
    "print(\"Precision:\", precision)\n"
   ]
  },
  {
   "cell_type": "code",
   "execution_count": 62,
   "metadata": {},
   "outputs": [
    {
     "name": "stdout",
     "output_type": "stream",
     "text": [
      "Recall: 0.25083594657101677\n"
     ]
    }
   ],
   "source": [
    "print(\"Recall:\", recall)"
   ]
  },
  {
   "cell_type": "markdown",
   "metadata": {},
   "source": [
    "Overall, these metrics indicate that while the model has relatively high precision, it sacrifices recall, resulting in a low F1 score. This suggests that the model may be biased towards predicting the majority class (resulting in high precision but low recall), or it may be making predictions that are too conservative. Further analysis and potentially model adjustments are needed to improve the model's performance."
   ]
  },
  {
   "cell_type": "code",
   "execution_count": 63,
   "metadata": {},
   "outputs": [
    {
     "name": "stdout",
     "output_type": "stream",
     "text": [
      "F1 Score: 0.27035473549796185\n"
     ]
    }
   ],
   "source": [
    "\n",
    "print(\"F1 Score:\", f1)"
   ]
  },
  {
   "cell_type": "markdown",
   "metadata": {},
   "source": [
    "NAIVE BAYES"
   ]
  },
  {
   "cell_type": "code",
   "execution_count": 65,
   "metadata": {},
   "outputs": [
    {
     "data": {
      "text/plain": [
       "0.7451102639923046"
      ]
     },
     "execution_count": 65,
     "metadata": {},
     "output_type": "execute_result"
    }
   ],
   "source": [
    "from sklearn.preprocessing import StandardScaler\n",
    "from sklearn.naive_bayes import GaussianNB\n",
    "naive_bayes_model = GaussianNB()\n",
    "\n",
    "# Train the model\n",
    "naive_bayes_model.fit(X_train_scaled, y_train)\n",
    "\n",
    "# Make predictions\n",
    "y_pred = naive_bayes_model.predict(X_test_scaled)\n",
    "\n",
    "# Calculate evaluation metrics\n",
    "accuracy = accuracy_score(y_test, y_pred)\n",
    "accuracy"
   ]
  },
  {
   "cell_type": "code",
   "execution_count": 67,
   "metadata": {},
   "outputs": [
    {
     "data": {
      "text/plain": [
       "0.42695551271446525"
      ]
     },
     "execution_count": 67,
     "metadata": {},
     "output_type": "execute_result"
    }
   ],
   "source": [
    "precision = precision_score(y_test, y_pred, average='macro', zero_division=1)\n",
    "recall = recall_score(y_test, y_pred, average='macro', zero_division=1)\n",
    "f1 = f1_score(y_test, y_pred, average='macro', zero_division=1)\n",
    "precision"
   ]
  }
 ],
 "metadata": {
  "kernelspec": {
   "display_name": "Python 3",
   "language": "python",
   "name": "python3"
  },
  "language_info": {
   "codemirror_mode": {
    "name": "ipython",
    "version": 3
   },
   "file_extension": ".py",
   "mimetype": "text/x-python",
   "name": "python",
   "nbconvert_exporter": "python",
   "pygments_lexer": "ipython3",
   "version": "3.11.1"
  }
 },
 "nbformat": 4,
 "nbformat_minor": 2
}
